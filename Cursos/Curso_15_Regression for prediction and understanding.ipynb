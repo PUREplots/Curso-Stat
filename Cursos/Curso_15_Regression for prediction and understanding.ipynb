{
 "cells": [
  {
   "cell_type": "markdown",
   "metadata": {},
   "source": [
    "# Transformations\n",
    "\n",
    "[Gelman, Data Analysis using Regression and multilevel hierarchical models, 2007]"
   ]
  },
  {
   "cell_type": "code",
   "execution_count": 101,
   "metadata": {},
   "outputs": [
    {
     "name": "stderr",
     "output_type": "stream",
     "text": [
      "Loading required package: MASS\n",
      "\n",
      "Attaching package: 'MASS'\n",
      "\n",
      "The following object is masked from 'package:dplyr':\n",
      "\n",
      "    select\n",
      "\n",
      "Loading required package: Matrix\n",
      "\n",
      "Attaching package: 'Matrix'\n",
      "\n",
      "The following object is masked from 'package:tidyr':\n",
      "\n",
      "    expand\n",
      "\n",
      "Loading required package: lme4\n",
      "\n",
      "arm (Version 1.9-3, built: 2016-11-21)\n",
      "\n",
      "Working directory is C:/Users/Personal/Grupo de Trabajo Stats\n",
      "\n"
     ]
    }
   ],
   "source": [
    "library(dplyr)\n",
    "library(tidyr)\n",
    "library(ggplot2)\n",
    "library(arm)"
   ]
  },
  {
   "cell_type": "code",
   "execution_count": 2,
   "metadata": {},
   "outputs": [
    {
     "data": {
      "text/html": [
       "<table>\n",
       "<thead><tr><th scope=col>X3</th><th scope=col>MCD</th><th scope=col>X2.80</th><th scope=col>X2.55</th><th scope=col>X2.16</th><th scope=col>X0.60</th><th scope=col>X1</th><th scope=col>X1179.2</th></tr></thead>\n",
       "<tbody>\n",
       "\t<tr><td> 4    </td><td>MCD   </td><td>1.30  </td><td>0.85  </td><td>1.80  </td><td>1.20  </td><td>1     </td><td> 308.0</td></tr>\n",
       "\t<tr><td> 5    </td><td>MCD   </td><td>3.30  </td><td>1.90  </td><td>1.55  </td><td>1.05  </td><td>1     </td><td> 855.2</td></tr>\n",
       "\t<tr><td> 6    </td><td>MCD   </td><td>1.40  </td><td>1.40  </td><td>1.20  </td><td>1.00  </td><td>1     </td><td> 268.7</td></tr>\n",
       "\t<tr><td> 7    </td><td>MCD   </td><td>1.50  </td><td>0.50  </td><td>1.00  </td><td>0.90  </td><td>1     </td><td> 155.5</td></tr>\n",
       "\t<tr><td> 8    </td><td>MCD   </td><td>3.90  </td><td>2.30  </td><td>1.70  </td><td>1.30  </td><td>2     </td><td>1253.2</td></tr>\n",
       "\t<tr><td> 9    </td><td>MCD   </td><td>1.80  </td><td>1.35  </td><td>0.80  </td><td>0.60  </td><td>1     </td><td> 328.0</td></tr>\n",
       "\t<tr><td>10    </td><td>MCD   </td><td>2.10  </td><td>1.60  </td><td>1.20  </td><td>0.80  </td><td>1     </td><td> 614.6</td></tr>\n",
       "\t<tr><td>11    </td><td>MCD   </td><td>0.80  </td><td>0.63  </td><td>0.90  </td><td>0.60  </td><td>1     </td><td>  60.2</td></tr>\n",
       "\t<tr><td>12    </td><td>MCD   </td><td>1.30  </td><td>0.95  </td><td>1.35  </td><td>0.95  </td><td>1     </td><td> 269.6</td></tr>\n",
       "\t<tr><td>13    </td><td>MCD   </td><td>1.20  </td><td>0.90  </td><td>1.40  </td><td>1.20  </td><td>1     </td><td> 448.4</td></tr>\n",
       "\t<tr><td>14    </td><td>MCD   </td><td>1.50  </td><td>0.70  </td><td>1.00  </td><td>0.70  </td><td>1     </td><td> 120.4</td></tr>\n",
       "\t<tr><td>15    </td><td>MCD   </td><td>2.80  </td><td>1.70  </td><td>1.70  </td><td>1.20  </td><td>1     </td><td> 378.7</td></tr>\n",
       "\t<tr><td>16    </td><td>MCD   </td><td>1.40  </td><td>0.85  </td><td>1.50  </td><td>1.10  </td><td>1     </td><td> 266.4</td></tr>\n",
       "\t<tr><td>17    </td><td>MCD   </td><td>1.50  </td><td>0.60  </td><td>0.65  </td><td>0.64  </td><td>1     </td><td> 138.9</td></tr>\n",
       "\t<tr><td>18    </td><td>MCD   </td><td>2.40  </td><td>2.40  </td><td>1.50  </td><td>1.20  </td><td>1     </td><td>1020.8</td></tr>\n",
       "\t<tr><td>19    </td><td>MCD   </td><td>1.90  </td><td>1.55  </td><td>1.70  </td><td>1.20  </td><td>1     </td><td> 635.7</td></tr>\n",
       "\t<tr><td>20    </td><td>MCD   </td><td>2.30  </td><td>1.60  </td><td>1.70  </td><td>1.30  </td><td>1     </td><td> 621.8</td></tr>\n",
       "\t<tr><td>21    </td><td>MCD   </td><td>2.10  </td><td>1.70  </td><td>1.50  </td><td>1.00  </td><td>1     </td><td> 579.8</td></tr>\n",
       "\t<tr><td>22    </td><td>MCD   </td><td>2.40  </td><td>1.30  </td><td>1.50  </td><td>0.90  </td><td>2     </td><td> 326.8</td></tr>\n",
       "\t<tr><td>23    </td><td>MCD   </td><td>1.00  </td><td>0.40  </td><td>1.20  </td><td>1.00  </td><td>1     </td><td>  66.7</td></tr>\n",
       "\t<tr><td>24    </td><td>MCD   </td><td>1.30  </td><td>0.60  </td><td>0.70  </td><td>0.50  </td><td>1     </td><td>  68.0</td></tr>\n",
       "\t<tr><td>25    </td><td>MCD   </td><td>1.10  </td><td>0.70  </td><td>1.20  </td><td>0.90  </td><td>1     </td><td> 153.1</td></tr>\n",
       "\t<tr><td>26    </td><td>MCD   </td><td>1.30  </td><td>1.20  </td><td>0.80  </td><td>0.60  </td><td>1     </td><td> 256.4</td></tr>\n",
       "\t<tr><td>27    </td><td>ALS   </td><td>2.50  </td><td>2.30  </td><td>1.70  </td><td>1.40  </td><td>5     </td><td> 723.0</td></tr>\n",
       "\t<tr><td>28    </td><td>ALS   </td><td>5.20  </td><td>4.00  </td><td>3.00  </td><td>2.50  </td><td>9     </td><td>4052.0</td></tr>\n",
       "\t<tr><td>29    </td><td>ALS   </td><td>2.00  </td><td>1.60  </td><td>1.70  </td><td>1.40  </td><td>1     </td><td> 345.0</td></tr>\n",
       "\t<tr><td>30    </td><td>ALS   </td><td>1.60  </td><td>1.60  </td><td>1.60  </td><td>1.30  </td><td>1     </td><td> 330.9</td></tr>\n",
       "\t<tr><td>31    </td><td>ALS   </td><td>1.40  </td><td>1.00  </td><td>1.50  </td><td>1.10  </td><td>1     </td><td> 163.5</td></tr>\n",
       "\t<tr><td>32    </td><td>ALS   </td><td>3.20  </td><td>1.90  </td><td>1.90  </td><td>1.50  </td><td>3     </td><td>1160.0</td></tr>\n",
       "\t<tr><td>33    </td><td>ALS   </td><td>1.90  </td><td>1.80  </td><td>1.10  </td><td>0.80  </td><td>1     </td><td> 386.6</td></tr>\n",
       "\t<tr><td>34    </td><td>ALS   </td><td>2.40  </td><td>2.40  </td><td>1.60  </td><td>1.10  </td><td>3     </td><td> 693.5</td></tr>\n",
       "\t<tr><td>35    </td><td>ALS   </td><td>2.50  </td><td>1.80  </td><td>2.00  </td><td>1.30  </td><td>7     </td><td> 674.4</td></tr>\n",
       "\t<tr><td>36    </td><td>ALS   </td><td>2.10  </td><td>1.50  </td><td>1.25  </td><td>0.85  </td><td>1     </td><td> 217.5</td></tr>\n",
       "\t<tr><td>37    </td><td>ALS   </td><td>2.40  </td><td>2.20  </td><td>2.00  </td><td>1.50  </td><td>2     </td><td> 771.3</td></tr>\n",
       "\t<tr><td>38    </td><td>ALS   </td><td>2.40  </td><td>1.70  </td><td>1.30  </td><td>1.20  </td><td>2     </td><td> 341.7</td></tr>\n",
       "\t<tr><td>39    </td><td>ALS   </td><td>1.90  </td><td>1.20  </td><td>1.45  </td><td>1.15  </td><td>2     </td><td> 125.7</td></tr>\n",
       "\t<tr><td>40    </td><td>ALS   </td><td>2.70  </td><td>2.50  </td><td>2.20  </td><td>1.50  </td><td>3     </td><td> 462.5</td></tr>\n",
       "\t<tr><td>41    </td><td>ALS   </td><td>1.30  </td><td>1.10  </td><td>0.70  </td><td>0.70  </td><td>1     </td><td>  64.5</td></tr>\n",
       "\t<tr><td>42    </td><td>ALS   </td><td>2.90  </td><td>2.70  </td><td>1.90  </td><td>1.90  </td><td>1     </td><td> 850.6</td></tr>\n",
       "\t<tr><td>43    </td><td>ALS   </td><td>2.10  </td><td>1.00  </td><td>1.80  </td><td>1.50  </td><td>2     </td><td> 226.0</td></tr>\n",
       "\t<tr><td>44    </td><td>ALS   </td><td>4.10  </td><td>3.80  </td><td>2.00  </td><td>1.50  </td><td>2     </td><td>1745.1</td></tr>\n",
       "\t<tr><td>45    </td><td>ALS   </td><td>2.80  </td><td>2.50  </td><td>2.20  </td><td>1.50  </td><td>1     </td><td> 908.0</td></tr>\n",
       "\t<tr><td>46    </td><td>ALS   </td><td>1.27  </td><td>1.00  </td><td>0.92  </td><td>0.62  </td><td>1     </td><td> 213.5</td></tr>\n",
       "</tbody>\n",
       "</table>\n"
      ],
      "text/latex": [
       "\\begin{tabular}{r|llllllll}\n",
       " X3 & MCD & X2.80 & X2.55 & X2.16 & X0.60 & X1 & X1179.2\\\\\n",
       "\\hline\n",
       "\t  4     & MCD    & 1.30   & 0.85   & 1.80   & 1.20   & 1      &  308.0\\\\\n",
       "\t  5     & MCD    & 3.30   & 1.90   & 1.55   & 1.05   & 1      &  855.2\\\\\n",
       "\t  6     & MCD    & 1.40   & 1.40   & 1.20   & 1.00   & 1      &  268.7\\\\\n",
       "\t  7     & MCD    & 1.50   & 0.50   & 1.00   & 0.90   & 1      &  155.5\\\\\n",
       "\t  8     & MCD    & 3.90   & 2.30   & 1.70   & 1.30   & 2      & 1253.2\\\\\n",
       "\t  9     & MCD    & 1.80   & 1.35   & 0.80   & 0.60   & 1      &  328.0\\\\\n",
       "\t 10     & MCD    & 2.10   & 1.60   & 1.20   & 0.80   & 1      &  614.6\\\\\n",
       "\t 11     & MCD    & 0.80   & 0.63   & 0.90   & 0.60   & 1      &   60.2\\\\\n",
       "\t 12     & MCD    & 1.30   & 0.95   & 1.35   & 0.95   & 1      &  269.6\\\\\n",
       "\t 13     & MCD    & 1.20   & 0.90   & 1.40   & 1.20   & 1      &  448.4\\\\\n",
       "\t 14     & MCD    & 1.50   & 0.70   & 1.00   & 0.70   & 1      &  120.4\\\\\n",
       "\t 15     & MCD    & 2.80   & 1.70   & 1.70   & 1.20   & 1      &  378.7\\\\\n",
       "\t 16     & MCD    & 1.40   & 0.85   & 1.50   & 1.10   & 1      &  266.4\\\\\n",
       "\t 17     & MCD    & 1.50   & 0.60   & 0.65   & 0.64   & 1      &  138.9\\\\\n",
       "\t 18     & MCD    & 2.40   & 2.40   & 1.50   & 1.20   & 1      & 1020.8\\\\\n",
       "\t 19     & MCD    & 1.90   & 1.55   & 1.70   & 1.20   & 1      &  635.7\\\\\n",
       "\t 20     & MCD    & 2.30   & 1.60   & 1.70   & 1.30   & 1      &  621.8\\\\\n",
       "\t 21     & MCD    & 2.10   & 1.70   & 1.50   & 1.00   & 1      &  579.8\\\\\n",
       "\t 22     & MCD    & 2.40   & 1.30   & 1.50   & 0.90   & 2      &  326.8\\\\\n",
       "\t 23     & MCD    & 1.00   & 0.40   & 1.20   & 1.00   & 1      &   66.7\\\\\n",
       "\t 24     & MCD    & 1.30   & 0.60   & 0.70   & 0.50   & 1      &   68.0\\\\\n",
       "\t 25     & MCD    & 1.10   & 0.70   & 1.20   & 0.90   & 1      &  153.1\\\\\n",
       "\t 26     & MCD    & 1.30   & 1.20   & 0.80   & 0.60   & 1      &  256.4\\\\\n",
       "\t 27     & ALS    & 2.50   & 2.30   & 1.70   & 1.40   & 5      &  723.0\\\\\n",
       "\t 28     & ALS    & 5.20   & 4.00   & 3.00   & 2.50   & 9      & 4052.0\\\\\n",
       "\t 29     & ALS    & 2.00   & 1.60   & 1.70   & 1.40   & 1      &  345.0\\\\\n",
       "\t 30     & ALS    & 1.60   & 1.60   & 1.60   & 1.30   & 1      &  330.9\\\\\n",
       "\t 31     & ALS    & 1.40   & 1.00   & 1.50   & 1.10   & 1      &  163.5\\\\\n",
       "\t 32     & ALS    & 3.20   & 1.90   & 1.90   & 1.50   & 3      & 1160.0\\\\\n",
       "\t 33     & ALS    & 1.90   & 1.80   & 1.10   & 0.80   & 1      &  386.6\\\\\n",
       "\t 34     & ALS    & 2.40   & 2.40   & 1.60   & 1.10   & 3      &  693.5\\\\\n",
       "\t 35     & ALS    & 2.50   & 1.80   & 2.00   & 1.30   & 7      &  674.4\\\\\n",
       "\t 36     & ALS    & 2.10   & 1.50   & 1.25   & 0.85   & 1      &  217.5\\\\\n",
       "\t 37     & ALS    & 2.40   & 2.20   & 2.00   & 1.50   & 2      &  771.3\\\\\n",
       "\t 38     & ALS    & 2.40   & 1.70   & 1.30   & 1.20   & 2      &  341.7\\\\\n",
       "\t 39     & ALS    & 1.90   & 1.20   & 1.45   & 1.15   & 2      &  125.7\\\\\n",
       "\t 40     & ALS    & 2.70   & 2.50   & 2.20   & 1.50   & 3      &  462.5\\\\\n",
       "\t 41     & ALS    & 1.30   & 1.10   & 0.70   & 0.70   & 1      &   64.5\\\\\n",
       "\t 42     & ALS    & 2.90   & 2.70   & 1.90   & 1.90   & 1      &  850.6\\\\\n",
       "\t 43     & ALS    & 2.10   & 1.00   & 1.80   & 1.50   & 2      &  226.0\\\\\n",
       "\t 44     & ALS    & 4.10   & 3.80   & 2.00   & 1.50   & 2      & 1745.1\\\\\n",
       "\t 45     & ALS    & 2.80   & 2.50   & 2.20   & 1.50   & 1      &  908.0\\\\\n",
       "\t 46     & ALS    & 1.27   & 1.00   & 0.92   & 0.62   & 1      &  213.5\\\\\n",
       "\\end{tabular}\n"
      ],
      "text/markdown": [
       "\n",
       "X3 | MCD | X2.80 | X2.55 | X2.16 | X0.60 | X1 | X1179.2 | \n",
       "|---|---|---|---|---|---|---|---|---|---|---|---|---|---|---|---|---|---|---|---|---|---|---|---|---|---|---|---|---|---|---|---|---|---|---|---|---|---|---|---|---|---|---|\n",
       "|  4     | MCD    | 1.30   | 0.85   | 1.80   | 1.20   | 1      |  308.0 | \n",
       "|  5     | MCD    | 3.30   | 1.90   | 1.55   | 1.05   | 1      |  855.2 | \n",
       "|  6     | MCD    | 1.40   | 1.40   | 1.20   | 1.00   | 1      |  268.7 | \n",
       "|  7     | MCD    | 1.50   | 0.50   | 1.00   | 0.90   | 1      |  155.5 | \n",
       "|  8     | MCD    | 3.90   | 2.30   | 1.70   | 1.30   | 2      | 1253.2 | \n",
       "|  9     | MCD    | 1.80   | 1.35   | 0.80   | 0.60   | 1      |  328.0 | \n",
       "| 10     | MCD    | 2.10   | 1.60   | 1.20   | 0.80   | 1      |  614.6 | \n",
       "| 11     | MCD    | 0.80   | 0.63   | 0.90   | 0.60   | 1      |   60.2 | \n",
       "| 12     | MCD    | 1.30   | 0.95   | 1.35   | 0.95   | 1      |  269.6 | \n",
       "| 13     | MCD    | 1.20   | 0.90   | 1.40   | 1.20   | 1      |  448.4 | \n",
       "| 14     | MCD    | 1.50   | 0.70   | 1.00   | 0.70   | 1      |  120.4 | \n",
       "| 15     | MCD    | 2.80   | 1.70   | 1.70   | 1.20   | 1      |  378.7 | \n",
       "| 16     | MCD    | 1.40   | 0.85   | 1.50   | 1.10   | 1      |  266.4 | \n",
       "| 17     | MCD    | 1.50   | 0.60   | 0.65   | 0.64   | 1      |  138.9 | \n",
       "| 18     | MCD    | 2.40   | 2.40   | 1.50   | 1.20   | 1      | 1020.8 | \n",
       "| 19     | MCD    | 1.90   | 1.55   | 1.70   | 1.20   | 1      |  635.7 | \n",
       "| 20     | MCD    | 2.30   | 1.60   | 1.70   | 1.30   | 1      |  621.8 | \n",
       "| 21     | MCD    | 2.10   | 1.70   | 1.50   | 1.00   | 1      |  579.8 | \n",
       "| 22     | MCD    | 2.40   | 1.30   | 1.50   | 0.90   | 2      |  326.8 | \n",
       "| 23     | MCD    | 1.00   | 0.40   | 1.20   | 1.00   | 1      |   66.7 | \n",
       "| 24     | MCD    | 1.30   | 0.60   | 0.70   | 0.50   | 1      |   68.0 | \n",
       "| 25     | MCD    | 1.10   | 0.70   | 1.20   | 0.90   | 1      |  153.1 | \n",
       "| 26     | MCD    | 1.30   | 1.20   | 0.80   | 0.60   | 1      |  256.4 | \n",
       "| 27     | ALS    | 2.50   | 2.30   | 1.70   | 1.40   | 5      |  723.0 | \n",
       "| 28     | ALS    | 5.20   | 4.00   | 3.00   | 2.50   | 9      | 4052.0 | \n",
       "| 29     | ALS    | 2.00   | 1.60   | 1.70   | 1.40   | 1      |  345.0 | \n",
       "| 30     | ALS    | 1.60   | 1.60   | 1.60   | 1.30   | 1      |  330.9 | \n",
       "| 31     | ALS    | 1.40   | 1.00   | 1.50   | 1.10   | 1      |  163.5 | \n",
       "| 32     | ALS    | 3.20   | 1.90   | 1.90   | 1.50   | 3      | 1160.0 | \n",
       "| 33     | ALS    | 1.90   | 1.80   | 1.10   | 0.80   | 1      |  386.6 | \n",
       "| 34     | ALS    | 2.40   | 2.40   | 1.60   | 1.10   | 3      |  693.5 | \n",
       "| 35     | ALS    | 2.50   | 1.80   | 2.00   | 1.30   | 7      |  674.4 | \n",
       "| 36     | ALS    | 2.10   | 1.50   | 1.25   | 0.85   | 1      |  217.5 | \n",
       "| 37     | ALS    | 2.40   | 2.20   | 2.00   | 1.50   | 2      |  771.3 | \n",
       "| 38     | ALS    | 2.40   | 1.70   | 1.30   | 1.20   | 2      |  341.7 | \n",
       "| 39     | ALS    | 1.90   | 1.20   | 1.45   | 1.15   | 2      |  125.7 | \n",
       "| 40     | ALS    | 2.70   | 2.50   | 2.20   | 1.50   | 3      |  462.5 | \n",
       "| 41     | ALS    | 1.30   | 1.10   | 0.70   | 0.70   | 1      |   64.5 | \n",
       "| 42     | ALS    | 2.90   | 2.70   | 1.90   | 1.90   | 1      |  850.6 | \n",
       "| 43     | ALS    | 2.10   | 1.00   | 1.80   | 1.50   | 2      |  226.0 | \n",
       "| 44     | ALS    | 4.10   | 3.80   | 2.00   | 1.50   | 2      | 1745.1 | \n",
       "| 45     | ALS    | 2.80   | 2.50   | 2.20   | 1.50   | 1      |  908.0 | \n",
       "| 46     | ALS    | 1.27   | 1.00   | 0.92   | 0.62   | 1      |  213.5 | \n",
       "\n",
       "\n"
      ],
      "text/plain": [
       "   X3 MCD X2.80 X2.55 X2.16 X0.60 X1 X1179.2\n",
       "1   4 MCD 1.30  0.85  1.80  1.20  1   308.0 \n",
       "2   5 MCD 3.30  1.90  1.55  1.05  1   855.2 \n",
       "3   6 MCD 1.40  1.40  1.20  1.00  1   268.7 \n",
       "4   7 MCD 1.50  0.50  1.00  0.90  1   155.5 \n",
       "5   8 MCD 3.90  2.30  1.70  1.30  2  1253.2 \n",
       "6   9 MCD 1.80  1.35  0.80  0.60  1   328.0 \n",
       "7  10 MCD 2.10  1.60  1.20  0.80  1   614.6 \n",
       "8  11 MCD 0.80  0.63  0.90  0.60  1    60.2 \n",
       "9  12 MCD 1.30  0.95  1.35  0.95  1   269.6 \n",
       "10 13 MCD 1.20  0.90  1.40  1.20  1   448.4 \n",
       "11 14 MCD 1.50  0.70  1.00  0.70  1   120.4 \n",
       "12 15 MCD 2.80  1.70  1.70  1.20  1   378.7 \n",
       "13 16 MCD 1.40  0.85  1.50  1.10  1   266.4 \n",
       "14 17 MCD 1.50  0.60  0.65  0.64  1   138.9 \n",
       "15 18 MCD 2.40  2.40  1.50  1.20  1  1020.8 \n",
       "16 19 MCD 1.90  1.55  1.70  1.20  1   635.7 \n",
       "17 20 MCD 2.30  1.60  1.70  1.30  1   621.8 \n",
       "18 21 MCD 2.10  1.70  1.50  1.00  1   579.8 \n",
       "19 22 MCD 2.40  1.30  1.50  0.90  2   326.8 \n",
       "20 23 MCD 1.00  0.40  1.20  1.00  1    66.7 \n",
       "21 24 MCD 1.30  0.60  0.70  0.50  1    68.0 \n",
       "22 25 MCD 1.10  0.70  1.20  0.90  1   153.1 \n",
       "23 26 MCD 1.30  1.20  0.80  0.60  1   256.4 \n",
       "24 27 ALS 2.50  2.30  1.70  1.40  5   723.0 \n",
       "25 28 ALS 5.20  4.00  3.00  2.50  9  4052.0 \n",
       "26 29 ALS 2.00  1.60  1.70  1.40  1   345.0 \n",
       "27 30 ALS 1.60  1.60  1.60  1.30  1   330.9 \n",
       "28 31 ALS 1.40  1.00  1.50  1.10  1   163.5 \n",
       "29 32 ALS 3.20  1.90  1.90  1.50  3  1160.0 \n",
       "30 33 ALS 1.90  1.80  1.10  0.80  1   386.6 \n",
       "31 34 ALS 2.40  2.40  1.60  1.10  3   693.5 \n",
       "32 35 ALS 2.50  1.80  2.00  1.30  7   674.4 \n",
       "33 36 ALS 2.10  1.50  1.25  0.85  1   217.5 \n",
       "34 37 ALS 2.40  2.20  2.00  1.50  2   771.3 \n",
       "35 38 ALS 2.40  1.70  1.30  1.20  2   341.7 \n",
       "36 39 ALS 1.90  1.20  1.45  1.15  2   125.7 \n",
       "37 40 ALS 2.70  2.50  2.20  1.50  3   462.5 \n",
       "38 41 ALS 1.30  1.10  0.70  0.70  1    64.5 \n",
       "39 42 ALS 2.90  2.70  1.90  1.90  1   850.6 \n",
       "40 43 ALS 2.10  1.00  1.80  1.50  2   226.0 \n",
       "41 44 ALS 4.10  3.80  2.00  1.50  2  1745.1 \n",
       "42 45 ALS 2.80  2.50  2.20  1.50  1   908.0 \n",
       "43 46 ALS 1.27  1.00  0.92  0.62  1   213.5 "
      ]
     },
     "metadata": {},
     "output_type": "display_data"
    }
   ],
   "source": [
    "# predict weight\n",
    "\n",
    "mesquite <- read.table(\"C:/Users/Personal/Grupo de Trabajo Stats/ARM_Data/mesquite/mesquite.dat\", \n",
    "                       header = TRUE, skip = 3)\n",
    "# Obs Group Diam1 Diam2 TotHt CanHt Dens LeafWt\n",
    "mesquite"
   ]
  },
  {
   "cell_type": "code",
   "execution_count": 3,
   "metadata": {},
   "outputs": [
    {
     "data": {
      "text/html": [
       "<table>\n",
       "<thead><tr><th scope=col>obs</th><th scope=col>group</th><th scope=col>diam1</th><th scope=col>diam2</th><th scope=col>total.height</th><th scope=col>canopy.height</th><th scope=col>density</th><th scope=col>leaf.weight</th></tr></thead>\n",
       "<tbody>\n",
       "\t<tr><td>4     </td><td>MCD   </td><td>1.3   </td><td>0.85  </td><td>1.80  </td><td>1.20  </td><td>1     </td><td> 308.0</td></tr>\n",
       "\t<tr><td>5     </td><td>MCD   </td><td>3.3   </td><td>1.90  </td><td>1.55  </td><td>1.05  </td><td>1     </td><td> 855.2</td></tr>\n",
       "\t<tr><td>6     </td><td>MCD   </td><td>1.4   </td><td>1.40  </td><td>1.20  </td><td>1.00  </td><td>1     </td><td> 268.7</td></tr>\n",
       "\t<tr><td>7     </td><td>MCD   </td><td>1.5   </td><td>0.50  </td><td>1.00  </td><td>0.90  </td><td>1     </td><td> 155.5</td></tr>\n",
       "\t<tr><td>8     </td><td>MCD   </td><td>3.9   </td><td>2.30  </td><td>1.70  </td><td>1.30  </td><td>2     </td><td>1253.2</td></tr>\n",
       "\t<tr><td>9     </td><td>MCD   </td><td>1.8   </td><td>1.35  </td><td>0.80  </td><td>0.60  </td><td>1     </td><td> 328.0</td></tr>\n",
       "</tbody>\n",
       "</table>\n"
      ],
      "text/latex": [
       "\\begin{tabular}{r|llllllll}\n",
       " obs & group & diam1 & diam2 & total.height & canopy.height & density & leaf.weight\\\\\n",
       "\\hline\n",
       "\t 4      & MCD    & 1.3    & 0.85   & 1.80   & 1.20   & 1      &  308.0\\\\\n",
       "\t 5      & MCD    & 3.3    & 1.90   & 1.55   & 1.05   & 1      &  855.2\\\\\n",
       "\t 6      & MCD    & 1.4    & 1.40   & 1.20   & 1.00   & 1      &  268.7\\\\\n",
       "\t 7      & MCD    & 1.5    & 0.50   & 1.00   & 0.90   & 1      &  155.5\\\\\n",
       "\t 8      & MCD    & 3.9    & 2.30   & 1.70   & 1.30   & 2      & 1253.2\\\\\n",
       "\t 9      & MCD    & 1.8    & 1.35   & 0.80   & 0.60   & 1      &  328.0\\\\\n",
       "\\end{tabular}\n"
      ],
      "text/markdown": [
       "\n",
       "obs | group | diam1 | diam2 | total.height | canopy.height | density | leaf.weight | \n",
       "|---|---|---|---|---|---|\n",
       "| 4      | MCD    | 1.3    | 0.85   | 1.80   | 1.20   | 1      |  308.0 | \n",
       "| 5      | MCD    | 3.3    | 1.90   | 1.55   | 1.05   | 1      |  855.2 | \n",
       "| 6      | MCD    | 1.4    | 1.40   | 1.20   | 1.00   | 1      |  268.7 | \n",
       "| 7      | MCD    | 1.5    | 0.50   | 1.00   | 0.90   | 1      |  155.5 | \n",
       "| 8      | MCD    | 3.9    | 2.30   | 1.70   | 1.30   | 2      | 1253.2 | \n",
       "| 9      | MCD    | 1.8    | 1.35   | 0.80   | 0.60   | 1      |  328.0 | \n",
       "\n",
       "\n"
      ],
      "text/plain": [
       "  obs group diam1 diam2 total.height canopy.height density leaf.weight\n",
       "1 4   MCD   1.3   0.85  1.80         1.20          1        308.0     \n",
       "2 5   MCD   3.3   1.90  1.55         1.05          1        855.2     \n",
       "3 6   MCD   1.4   1.40  1.20         1.00          1        268.7     \n",
       "4 7   MCD   1.5   0.50  1.00         0.90          1        155.5     \n",
       "5 8   MCD   3.9   2.30  1.70         1.30          2       1253.2     \n",
       "6 9   MCD   1.8   1.35  0.80         0.60          1        328.0     "
      ]
     },
     "metadata": {},
     "output_type": "display_data"
    }
   ],
   "source": [
    "names(mesquite) <- c(\"obs\", \"group\", \"diam1\", \"diam2\", \"total.height\", \"canopy.height\", \"density\", \"leaf.weight\")\n",
    "head(mesquite)"
   ]
  },
  {
   "cell_type": "markdown",
   "metadata": {},
   "source": [
    "<img src='treeoflife.jpg'>"
   ]
  },
  {
   "cell_type": "code",
   "execution_count": 4,
   "metadata": {
    "scrolled": false
   },
   "outputs": [
    {
     "data": {
      "text/plain": [
       "\n",
       "Call:\n",
       "lm(formula = leaf.weight ~ diam1 + diam2 + canopy.height + total.height + \n",
       "    density + group, data = mesquite)\n",
       "\n",
       "Coefficients:\n",
       "  (Intercept)          diam1          diam2  canopy.height   total.height  \n",
       "      -1069.0          195.0          342.8          796.2         -442.3  \n",
       "      density       groupMCD  \n",
       "        138.2          365.5  \n"
      ]
     },
     "metadata": {},
     "output_type": "display_data"
    }
   ],
   "source": [
    "lm1 <- lm(formula = leaf.weight ~ diam1 + diam2 + canopy.height + \n",
    "          total.height + density + group, data = mesquite)\n",
    "\n",
    "lm1"
   ]
  },
  {
   "cell_type": "code",
   "execution_count": 5,
   "metadata": {},
   "outputs": [
    {
     "data": {
      "text/plain": [
       "\n",
       "Call:\n",
       "lm(formula = log(leaf.weight) ~ log(diam1) + log(diam2) + log(canopy.height) + \n",
       "    log(total.height) + log(density) + group, data = mesquite)\n",
       "\n",
       "Coefficients:\n",
       "       (Intercept)          log(diam1)          log(diam2)  log(canopy.height)  \n",
       "            4.8082              0.3871              1.1436              0.5164  \n",
       " log(total.height)        log(density)            groupMCD  \n",
       "            0.2468              0.1225              0.5732  \n"
      ]
     },
     "metadata": {},
     "output_type": "display_data"
    }
   ],
   "source": [
    "# Effects are multiplicative: think about volume.\n",
    "# Instead of adding +x grams, we think about additional x% in height yields a 0.37x% in weight.\n",
    "\n",
    "lm2 <- lm(formula = log(leaf.weight) ~ log(diam1) + log(diam2) + log(canopy.height) + \n",
    "          log(total.height) + log(density) + group, data = mesquite)\n",
    "\n",
    "lm2          "
   ]
  },
  {
   "cell_type": "code",
   "execution_count": 5,
   "metadata": {},
   "outputs": [
    {
     "data": {
      "text/html": [
       "<table>\n",
       "<thead><tr><th scope=col>obs</th><th scope=col>group</th><th scope=col>diam1</th><th scope=col>diam2</th><th scope=col>total.height</th><th scope=col>canopy.height</th><th scope=col>density</th><th scope=col>leaf.weight</th><th scope=col>canopy.volume</th></tr></thead>\n",
       "<tbody>\n",
       "\t<tr><td>4      </td><td>MCD    </td><td>1.3    </td><td>0.85   </td><td>1.80   </td><td>1.20   </td><td>1      </td><td> 308.0 </td><td> 1.3260</td></tr>\n",
       "\t<tr><td>5      </td><td>MCD    </td><td>3.3    </td><td>1.90   </td><td>1.55   </td><td>1.05   </td><td>1      </td><td> 855.2 </td><td> 6.5835</td></tr>\n",
       "\t<tr><td>6      </td><td>MCD    </td><td>1.4    </td><td>1.40   </td><td>1.20   </td><td>1.00   </td><td>1      </td><td> 268.7 </td><td> 1.9600</td></tr>\n",
       "\t<tr><td>7      </td><td>MCD    </td><td>1.5    </td><td>0.50   </td><td>1.00   </td><td>0.90   </td><td>1      </td><td> 155.5 </td><td> 0.6750</td></tr>\n",
       "\t<tr><td>8      </td><td>MCD    </td><td>3.9    </td><td>2.30   </td><td>1.70   </td><td>1.30   </td><td>2      </td><td>1253.2 </td><td>11.6610</td></tr>\n",
       "\t<tr><td>9      </td><td>MCD    </td><td>1.8    </td><td>1.35   </td><td>0.80   </td><td>0.60   </td><td>1      </td><td> 328.0 </td><td> 1.4580</td></tr>\n",
       "</tbody>\n",
       "</table>\n"
      ],
      "text/latex": [
       "\\begin{tabular}{r|lllllllll}\n",
       " obs & group & diam1 & diam2 & total.height & canopy.height & density & leaf.weight & canopy.volume\\\\\n",
       "\\hline\n",
       "\t 4       & MCD     & 1.3     & 0.85    & 1.80    & 1.20    & 1       &  308.0  &  1.3260\\\\\n",
       "\t 5       & MCD     & 3.3     & 1.90    & 1.55    & 1.05    & 1       &  855.2  &  6.5835\\\\\n",
       "\t 6       & MCD     & 1.4     & 1.40    & 1.20    & 1.00    & 1       &  268.7  &  1.9600\\\\\n",
       "\t 7       & MCD     & 1.5     & 0.50    & 1.00    & 0.90    & 1       &  155.5  &  0.6750\\\\\n",
       "\t 8       & MCD     & 3.9     & 2.30    & 1.70    & 1.30    & 2       & 1253.2  & 11.6610\\\\\n",
       "\t 9       & MCD     & 1.8     & 1.35    & 0.80    & 0.60    & 1       &  328.0  &  1.4580\\\\\n",
       "\\end{tabular}\n"
      ],
      "text/markdown": [
       "\n",
       "obs | group | diam1 | diam2 | total.height | canopy.height | density | leaf.weight | canopy.volume | \n",
       "|---|---|---|---|---|---|\n",
       "| 4       | MCD     | 1.3     | 0.85    | 1.80    | 1.20    | 1       |  308.0  |  1.3260 | \n",
       "| 5       | MCD     | 3.3     | 1.90    | 1.55    | 1.05    | 1       |  855.2  |  6.5835 | \n",
       "| 6       | MCD     | 1.4     | 1.40    | 1.20    | 1.00    | 1       |  268.7  |  1.9600 | \n",
       "| 7       | MCD     | 1.5     | 0.50    | 1.00    | 0.90    | 1       |  155.5  |  0.6750 | \n",
       "| 8       | MCD     | 3.9     | 2.30    | 1.70    | 1.30    | 2       | 1253.2  | 11.6610 | \n",
       "| 9       | MCD     | 1.8     | 1.35    | 0.80    | 0.60    | 1       |  328.0  |  1.4580 | \n",
       "\n",
       "\n"
      ],
      "text/plain": [
       "  obs group diam1 diam2 total.height canopy.height density leaf.weight\n",
       "1 4   MCD   1.3   0.85  1.80         1.20          1        308.0     \n",
       "2 5   MCD   3.3   1.90  1.55         1.05          1        855.2     \n",
       "3 6   MCD   1.4   1.40  1.20         1.00          1        268.7     \n",
       "4 7   MCD   1.5   0.50  1.00         0.90          1        155.5     \n",
       "5 8   MCD   3.9   2.30  1.70         1.30          2       1253.2     \n",
       "6 9   MCD   1.8   1.35  0.80         0.60          1        328.0     \n",
       "  canopy.volume\n",
       "1  1.3260      \n",
       "2  6.5835      \n",
       "3  1.9600      \n",
       "4  0.6750      \n",
       "5 11.6610      \n",
       "6  1.4580      "
      ]
     },
     "metadata": {},
     "output_type": "display_data"
    }
   ],
   "source": [
    "mesquite <- mesquite %>% mutate(canopy.volume = diam1*diam2*canopy.height)\n",
    "head(mesquite)"
   ]
  },
  {
   "cell_type": "code",
   "execution_count": 6,
   "metadata": {},
   "outputs": [
    {
     "data": {
      "text/plain": [
       "\n",
       "Call:\n",
       "lm(formula = log(leaf.weight) ~ log(canopy.volume), data = mesquite)\n",
       "\n",
       "Residuals:\n",
       "     Min       1Q   Median       3Q      Max \n",
       "-0.99948 -0.26569  0.07547  0.31827  0.77778 \n",
       "\n",
       "Coefficients:\n",
       "                   Estimate Std. Error t value Pr(>|t|)    \n",
       "(Intercept)         5.14191    0.08220   62.55   <2e-16 ***\n",
       "log(canopy.volume)  0.71733    0.05306   13.52   <2e-16 ***\n",
       "---\n",
       "Signif. codes:  0 '***' 0.001 '**' 0.01 '*' 0.05 '.' 0.1 ' ' 1\n",
       "\n",
       "Residual standard error: 0.4015 on 41 degrees of freedom\n",
       "Multiple R-squared:  0.8168,\tAdjusted R-squared:  0.8123 \n",
       "F-statistic: 182.8 on 1 and 41 DF,  p-value: < 2.2e-16\n"
      ]
     },
     "metadata": {},
     "output_type": "display_data"
    }
   ],
   "source": [
    "lm3 <- lm(formula = log(leaf.weight) ~ log(canopy.volume), data = mesquite)\n",
    "\n",
    "summary(lm3)"
   ]
  },
  {
   "cell_type": "code",
   "execution_count": 7,
   "metadata": {},
   "outputs": [
    {
     "data": {
      "text/html": [
       "<table>\n",
       "<thead><tr><th scope=col>obs</th><th scope=col>group</th><th scope=col>diam1</th><th scope=col>diam2</th><th scope=col>total.height</th><th scope=col>canopy.height</th><th scope=col>density</th><th scope=col>leaf.weight</th><th scope=col>canopy.volume</th><th scope=col>canopy.area</th><th scope=col>canopy.shape</th></tr></thead>\n",
       "<tbody>\n",
       "\t<tr><td>4       </td><td>MCD     </td><td>1.3     </td><td>0.85    </td><td>1.80    </td><td>1.20    </td><td>1       </td><td> 308.0  </td><td> 1.3260 </td><td>1.105   </td><td>1.529412</td></tr>\n",
       "\t<tr><td>5       </td><td>MCD     </td><td>3.3     </td><td>1.90    </td><td>1.55    </td><td>1.05    </td><td>1       </td><td> 855.2  </td><td> 6.5835 </td><td>6.270   </td><td>1.736842</td></tr>\n",
       "\t<tr><td>6       </td><td>MCD     </td><td>1.4     </td><td>1.40    </td><td>1.20    </td><td>1.00    </td><td>1       </td><td> 268.7  </td><td> 1.9600 </td><td>1.960   </td><td>1.000000</td></tr>\n",
       "\t<tr><td>7       </td><td>MCD     </td><td>1.5     </td><td>0.50    </td><td>1.00    </td><td>0.90    </td><td>1       </td><td> 155.5  </td><td> 0.6750 </td><td>0.750   </td><td>3.000000</td></tr>\n",
       "\t<tr><td>8       </td><td>MCD     </td><td>3.9     </td><td>2.30    </td><td>1.70    </td><td>1.30    </td><td>2       </td><td>1253.2  </td><td>11.6610 </td><td>8.970   </td><td>1.695652</td></tr>\n",
       "\t<tr><td>9       </td><td>MCD     </td><td>1.8     </td><td>1.35    </td><td>0.80    </td><td>0.60    </td><td>1       </td><td> 328.0  </td><td> 1.4580 </td><td>2.430   </td><td>1.333333</td></tr>\n",
       "</tbody>\n",
       "</table>\n"
      ],
      "text/latex": [
       "\\begin{tabular}{r|lllllllllll}\n",
       " obs & group & diam1 & diam2 & total.height & canopy.height & density & leaf.weight & canopy.volume & canopy.area & canopy.shape\\\\\n",
       "\\hline\n",
       "\t 4        & MCD      & 1.3      & 0.85     & 1.80     & 1.20     & 1        &  308.0   &  1.3260  & 1.105    & 1.529412\\\\\n",
       "\t 5        & MCD      & 3.3      & 1.90     & 1.55     & 1.05     & 1        &  855.2   &  6.5835  & 6.270    & 1.736842\\\\\n",
       "\t 6        & MCD      & 1.4      & 1.40     & 1.20     & 1.00     & 1        &  268.7   &  1.9600  & 1.960    & 1.000000\\\\\n",
       "\t 7        & MCD      & 1.5      & 0.50     & 1.00     & 0.90     & 1        &  155.5   &  0.6750  & 0.750    & 3.000000\\\\\n",
       "\t 8        & MCD      & 3.9      & 2.30     & 1.70     & 1.30     & 2        & 1253.2   & 11.6610  & 8.970    & 1.695652\\\\\n",
       "\t 9        & MCD      & 1.8      & 1.35     & 0.80     & 0.60     & 1        &  328.0   &  1.4580  & 2.430    & 1.333333\\\\\n",
       "\\end{tabular}\n"
      ],
      "text/markdown": [
       "\n",
       "obs | group | diam1 | diam2 | total.height | canopy.height | density | leaf.weight | canopy.volume | canopy.area | canopy.shape | \n",
       "|---|---|---|---|---|---|\n",
       "| 4        | MCD      | 1.3      | 0.85     | 1.80     | 1.20     | 1        |  308.0   |  1.3260  | 1.105    | 1.529412 | \n",
       "| 5        | MCD      | 3.3      | 1.90     | 1.55     | 1.05     | 1        |  855.2   |  6.5835  | 6.270    | 1.736842 | \n",
       "| 6        | MCD      | 1.4      | 1.40     | 1.20     | 1.00     | 1        |  268.7   |  1.9600  | 1.960    | 1.000000 | \n",
       "| 7        | MCD      | 1.5      | 0.50     | 1.00     | 0.90     | 1        |  155.5   |  0.6750  | 0.750    | 3.000000 | \n",
       "| 8        | MCD      | 3.9      | 2.30     | 1.70     | 1.30     | 2        | 1253.2   | 11.6610  | 8.970    | 1.695652 | \n",
       "| 9        | MCD      | 1.8      | 1.35     | 0.80     | 0.60     | 1        |  328.0   |  1.4580  | 2.430    | 1.333333 | \n",
       "\n",
       "\n"
      ],
      "text/plain": [
       "  obs group diam1 diam2 total.height canopy.height density leaf.weight\n",
       "1 4   MCD   1.3   0.85  1.80         1.20          1        308.0     \n",
       "2 5   MCD   3.3   1.90  1.55         1.05          1        855.2     \n",
       "3 6   MCD   1.4   1.40  1.20         1.00          1        268.7     \n",
       "4 7   MCD   1.5   0.50  1.00         0.90          1        155.5     \n",
       "5 8   MCD   3.9   2.30  1.70         1.30          2       1253.2     \n",
       "6 9   MCD   1.8   1.35  0.80         0.60          1        328.0     \n",
       "  canopy.volume canopy.area canopy.shape\n",
       "1  1.3260       1.105       1.529412    \n",
       "2  6.5835       6.270       1.736842    \n",
       "3  1.9600       1.960       1.000000    \n",
       "4  0.6750       0.750       3.000000    \n",
       "5 11.6610       8.970       1.695652    \n",
       "6  1.4580       2.430       1.333333    "
      ]
     },
     "metadata": {},
     "output_type": "display_data"
    }
   ],
   "source": [
    "mesquite <- mesquite %>% mutate(canopy.area = diam1*diam2, canopy.shape=diam1/diam2)\n",
    "head(mesquite)"
   ]
  },
  {
   "cell_type": "code",
   "execution_count": 10,
   "metadata": {},
   "outputs": [
    {
     "data": {
      "text/plain": [
       "\n",
       "Call:\n",
       "lm(formula = log(leaf.weight) ~ log(canopy.volume) + log(canopy.area) + \n",
       "    log(canopy.shape) + log(total.height) + log(density) + group, \n",
       "    data = mesquite)\n",
       "\n",
       "Residuals:\n",
       "     Min       1Q   Median       3Q      Max \n",
       "-0.68006 -0.15176  0.02271  0.15619  0.73036 \n",
       "\n",
       "Coefficients:\n",
       "                   Estimate Std. Error t value Pr(>|t|)    \n",
       "(Intercept)          4.8082     0.1880  25.577  < 2e-16 ***\n",
       "log(canopy.volume)   0.5164     0.4681   1.103 0.277297    \n",
       "log(canopy.area)     0.2489     0.4870   0.511 0.612343    \n",
       "log(canopy.shape)   -0.3782     0.2422  -1.561 0.127159    \n",
       "log(total.height)    0.2468     0.4765   0.518 0.607595    \n",
       "log(density)         0.1225     0.1275   0.961 0.342962    \n",
       "groupMCD             0.5732     0.1381   4.150 0.000194 ***\n",
       "---\n",
       "Signif. codes:  0 '***' 0.001 '**' 0.01 '*' 0.05 '.' 0.1 ' ' 1\n",
       "\n",
       "Residual standard error: 0.3401 on 36 degrees of freedom\n",
       "Multiple R-squared:  0.8846,\tAdjusted R-squared:  0.8653 \n",
       "F-statistic: 45.98 on 6 and 36 DF,  p-value: 1.993e-15\n"
      ]
     },
     "metadata": {},
     "output_type": "display_data"
    }
   ],
   "source": [
    "lmFinal <- lm(formula = log(leaf.weight) ~ log(canopy.volume) + log(canopy.area) + \n",
    "              log(canopy.shape) + log(total.height) + log(density) + group, data = mesquite)\n",
    "\n",
    "summary(lmFinal)"
   ]
  },
  {
   "cell_type": "code",
   "execution_count": 15,
   "metadata": {},
   "outputs": [
    {
     "data": {
      "text/plain": [
       "\n",
       "Call:\n",
       "lm(formula = log(leaf.weight) ~ group, data = mesquite)\n",
       "\n",
       "Residuals:\n",
       "     Min       1Q   Median       3Q      Max \n",
       "-1.95879 -0.67346  0.01119  0.65314  2.18151 \n",
       "\n",
       "Coefficients:\n",
       "            Estimate Std. Error t value Pr(>|t|)    \n",
       "(Intercept)   6.1255     0.2033  30.134   <2e-16 ***\n",
       "groupMCD     -0.4524     0.2779  -1.628    0.111    \n",
       "---\n",
       "Signif. codes:  0 '***' 0.001 '**' 0.01 '*' 0.05 '.' 0.1 ' ' 1\n",
       "\n",
       "Residual standard error: 0.9091 on 41 degrees of freedom\n",
       "Multiple R-squared:  0.06069,\tAdjusted R-squared:  0.03778 \n",
       "F-statistic: 2.649 on 1 and 41 DF,  p-value: 0.1113\n"
      ]
     },
     "metadata": {},
     "output_type": "display_data"
    },
    {
     "data": {
      "text/html": [
       "TRUE"
      ],
      "text/latex": [
       "TRUE"
      ],
      "text/markdown": [
       "TRUE"
      ],
      "text/plain": [
       "[1] TRUE"
      ]
     },
     "metadata": {},
     "output_type": "display_data"
    },
    {
     "data": {
      "text/html": [
       "<ol class=list-inline>\n",
       "\t<li>'ALS'</li>\n",
       "\t<li>'MCD'</li>\n",
       "</ol>\n"
      ],
      "text/latex": [
       "\\begin{enumerate*}\n",
       "\\item 'ALS'\n",
       "\\item 'MCD'\n",
       "\\end{enumerate*}\n"
      ],
      "text/markdown": [
       "1. 'ALS'\n",
       "2. 'MCD'\n",
       "\n",
       "\n"
      ],
      "text/plain": [
       "[1] \"ALS\" \"MCD\""
      ]
     },
     "metadata": {},
     "output_type": "display_data"
    }
   ],
   "source": [
    "lmGroup <- lm(formula = log(leaf.weight) ~ group, data = mesquite)\n",
    "\n",
    "summary(lmGroup)\n",
    "\n",
    "is.factor(mesquite$group)\n",
    "levels(mesquite$group)"
   ]
  },
  {
   "cell_type": "code",
   "execution_count": 54,
   "metadata": {
    "scrolled": true
   },
   "outputs": [
    {
     "data": {
      "image/png": "[encoded data removed]",
      "text/plain": [
       "Plot with title \"\""
      ]
     },
     "metadata": {},
     "output_type": "display_data"
    },
    {
     "data": {
      "image/png": "[encoded data removed]",
      "text/plain": [
       "Plot with title \"\""
      ]
     },
     "metadata": {},
     "output_type": "display_data"
    },
    {
     "data": {
      "image/png": "[encoded data removed]",
      "text/plain": [
       "Plot with title \"\""
      ]
     },
     "metadata": {},
     "output_type": "display_data"
    },
    {
     "data": {
      "image/png": "[encoded data removed]",
      "text/plain": [
       "Plot with title \"\""
      ]
     },
     "metadata": {},
     "output_type": "display_data"
    }
   ],
   "source": [
    "plot(lmFinal)"
   ]
  },
  {
   "cell_type": "markdown",
   "metadata": {},
   "source": [
    "# Interactions"
   ]
  },
  {
   "cell_type": "markdown",
   "metadata": {},
   "source": [
    "## Example 1: Arsenic levels"
   ]
  },
  {
   "cell_type": "code",
   "execution_count": 75,
   "metadata": {
    "scrolled": true
   },
   "outputs": [
    {
     "data": {
      "text/html": [
       "<table>\n",
       "<thead><tr><th scope=col>switch</th><th scope=col>arsenic</th><th scope=col>dist</th><th scope=col>assoc</th><th scope=col>educ</th></tr></thead>\n",
       "<tbody>\n",
       "\t<tr><td>1     </td><td>2.36  </td><td>16.826</td><td>0     </td><td> 0    </td></tr>\n",
       "\t<tr><td>1     </td><td>0.71  </td><td>47.322</td><td>0     </td><td> 0    </td></tr>\n",
       "\t<tr><td>0     </td><td>2.07  </td><td>20.967</td><td>0     </td><td>10    </td></tr>\n",
       "\t<tr><td>1     </td><td>1.15  </td><td>21.486</td><td>0     </td><td>12    </td></tr>\n",
       "\t<tr><td>1     </td><td>1.10  </td><td>40.874</td><td>1     </td><td>14    </td></tr>\n",
       "\t<tr><td>1     </td><td>3.90  </td><td>69.518</td><td>1     </td><td> 9    </td></tr>\n",
       "</tbody>\n",
       "</table>\n"
      ],
      "text/latex": [
       "\\begin{tabular}{r|lllll}\n",
       " switch & arsenic & dist & assoc & educ\\\\\n",
       "\\hline\n",
       "\t 1      & 2.36   & 16.826 & 0      &  0    \\\\\n",
       "\t 1      & 0.71   & 47.322 & 0      &  0    \\\\\n",
       "\t 0      & 2.07   & 20.967 & 0      & 10    \\\\\n",
       "\t 1      & 1.15   & 21.486 & 0      & 12    \\\\\n",
       "\t 1      & 1.10   & 40.874 & 1      & 14    \\\\\n",
       "\t 1      & 3.90   & 69.518 & 1      &  9    \\\\\n",
       "\\end{tabular}\n"
      ],
      "text/markdown": [
       "\n",
       "switch | arsenic | dist | assoc | educ | \n",
       "|---|---|---|---|---|---|\n",
       "| 1      | 2.36   | 16.826 | 0      |  0     | \n",
       "| 1      | 0.71   | 47.322 | 0      |  0     | \n",
       "| 0      | 2.07   | 20.967 | 0      | 10     | \n",
       "| 1      | 1.15   | 21.486 | 0      | 12     | \n",
       "| 1      | 1.10   | 40.874 | 1      | 14     | \n",
       "| 1      | 3.90   | 69.518 | 1      |  9     | \n",
       "\n",
       "\n"
      ],
      "text/plain": [
       "  switch arsenic dist   assoc educ\n",
       "1 1      2.36    16.826 0      0  \n",
       "2 1      0.71    47.322 0      0  \n",
       "3 0      2.07    20.967 0     10  \n",
       "4 1      1.15    21.486 0     12  \n",
       "5 1      1.10    40.874 1     14  \n",
       "6 1      3.90    69.518 1      9  "
      ]
     },
     "metadata": {},
     "output_type": "display_data"
    }
   ],
   "source": [
    "library(haven)\n",
    "arsenic <- read.table(\"C:/Users/Personal/Grupo de Trabajo Stats/ARM_Data/arsenic/wells.dat\")\n",
    "head(arsenic)"
   ]
  },
  {
   "cell_type": "code",
   "execution_count": 76,
   "metadata": {},
   "outputs": [
    {
     "data": {
      "text/html": [
       "<ol class=list-inline>\n",
       "\t<li>'switch'</li>\n",
       "\t<li>'arsenic'</li>\n",
       "\t<li>'dist'</li>\n",
       "\t<li>'assoc'</li>\n",
       "\t<li>'educ'</li>\n",
       "</ol>\n"
      ],
      "text/latex": [
       "\\begin{enumerate*}\n",
       "\\item 'switch'\n",
       "\\item 'arsenic'\n",
       "\\item 'dist'\n",
       "\\item 'assoc'\n",
       "\\item 'educ'\n",
       "\\end{enumerate*}\n"
      ],
      "text/markdown": [
       "1. 'switch'\n",
       "2. 'arsenic'\n",
       "3. 'dist'\n",
       "4. 'assoc'\n",
       "5. 'educ'\n",
       "\n",
       "\n"
      ],
      "text/plain": [
       "[1] \"switch\"  \"arsenic\" \"dist\"    \"assoc\"   \"educ\"   "
      ]
     },
     "metadata": {},
     "output_type": "display_data"
    }
   ],
   "source": [
    "names(arsenic)"
   ]
  },
  {
   "cell_type": "code",
   "execution_count": 77,
   "metadata": {
    "scrolled": true
   },
   "outputs": [
    {
     "data": {
      "text/html": [
       "<table>\n",
       "<thead><tr><th scope=col>switch</th><th scope=col>arsenic</th><th scope=col>dist</th><th scope=col>assoc</th><th scope=col>educ</th><th scope=col>dist100</th></tr></thead>\n",
       "<tbody>\n",
       "\t<tr><td>1      </td><td>2.36   </td><td>16.826 </td><td>0      </td><td> 0     </td><td>0.16826</td></tr>\n",
       "\t<tr><td>1      </td><td>0.71   </td><td>47.322 </td><td>0      </td><td> 0     </td><td>0.47322</td></tr>\n",
       "\t<tr><td>0      </td><td>2.07   </td><td>20.967 </td><td>0      </td><td>10     </td><td>0.20967</td></tr>\n",
       "\t<tr><td>1      </td><td>1.15   </td><td>21.486 </td><td>0      </td><td>12     </td><td>0.21486</td></tr>\n",
       "\t<tr><td>1      </td><td>1.10   </td><td>40.874 </td><td>1      </td><td>14     </td><td>0.40874</td></tr>\n",
       "\t<tr><td>1      </td><td>3.90   </td><td>69.518 </td><td>1      </td><td> 9     </td><td>0.69518</td></tr>\n",
       "</tbody>\n",
       "</table>\n"
      ],
      "text/latex": [
       "\\begin{tabular}{r|llllll}\n",
       " switch & arsenic & dist & assoc & educ & dist100\\\\\n",
       "\\hline\n",
       "\t 1       & 2.36    & 16.826  & 0       &  0      & 0.16826\\\\\n",
       "\t 1       & 0.71    & 47.322  & 0       &  0      & 0.47322\\\\\n",
       "\t 0       & 2.07    & 20.967  & 0       & 10      & 0.20967\\\\\n",
       "\t 1       & 1.15    & 21.486  & 0       & 12      & 0.21486\\\\\n",
       "\t 1       & 1.10    & 40.874  & 1       & 14      & 0.40874\\\\\n",
       "\t 1       & 3.90    & 69.518  & 1       &  9      & 0.69518\\\\\n",
       "\\end{tabular}\n"
      ],
      "text/markdown": [
       "\n",
       "switch | arsenic | dist | assoc | educ | dist100 | \n",
       "|---|---|---|---|---|---|\n",
       "| 1       | 2.36    | 16.826  | 0       |  0      | 0.16826 | \n",
       "| 1       | 0.71    | 47.322  | 0       |  0      | 0.47322 | \n",
       "| 0       | 2.07    | 20.967  | 0       | 10      | 0.20967 | \n",
       "| 1       | 1.15    | 21.486  | 0       | 12      | 0.21486 | \n",
       "| 1       | 1.10    | 40.874  | 1       | 14      | 0.40874 | \n",
       "| 1       | 3.90    | 69.518  | 1       |  9      | 0.69518 | \n",
       "\n",
       "\n"
      ],
      "text/plain": [
       "  switch arsenic dist   assoc educ dist100\n",
       "1 1      2.36    16.826 0      0   0.16826\n",
       "2 1      0.71    47.322 0      0   0.47322\n",
       "3 0      2.07    20.967 0     10   0.20967\n",
       "4 1      1.15    21.486 0     12   0.21486\n",
       "5 1      1.10    40.874 1     14   0.40874\n",
       "6 1      3.90    69.518 1      9   0.69518"
      ]
     },
     "metadata": {},
     "output_type": "display_data"
    },
    {
     "data": {
      "text/html": [
       "<ol class=list-inline>\n",
       "\t<li>3020</li>\n",
       "\t<li>6</li>\n",
       "</ol>\n"
      ],
      "text/latex": [
       "\\begin{enumerate*}\n",
       "\\item 3020\n",
       "\\item 6\n",
       "\\end{enumerate*}\n"
      ],
      "text/markdown": [
       "1. 3020\n",
       "2. 6\n",
       "\n",
       "\n"
      ],
      "text/plain": [
       "[1] 3020    6"
      ]
     },
     "metadata": {},
     "output_type": "display_data"
    }
   ],
   "source": [
    "arsenic.simple <- arsenic %>% mutate(dist100 = dist/100) \n",
    "\n",
    "head(arsenic.simple)\n",
    "dim(arsenic.simple)"
   ]
  },
  {
   "cell_type": "code",
   "execution_count": 79,
   "metadata": {},
   "outputs": [
    {
     "name": "stderr",
     "output_type": "stream",
     "text": [
      "`stat_bin()` using `bins = 30`. Pick better value with `binwidth`.\n",
      "`stat_bin()` using `bins = 30`. Pick better value with `binwidth`.\n"
     ]
    },
    {
     "data": {
      "image/png": "[encoded data removed]",
      "text/plain": [
       "plot without title"
      ]
     },
     "metadata": {},
     "output_type": "display_data"
    }
   ],
   "source": [
    "p1 <- ggplot(arsenic.simple, aes(arsenic)) + geom_histogram()\n",
    "p2 <- ggplot(arsenic.simple, aes(dist100)) + geom_histogram()\n",
    "\n",
    "multiplot(p1, p2, cols=2)"
   ]
  },
  {
   "cell_type": "code",
   "execution_count": 80,
   "metadata": {},
   "outputs": [
    {
     "data": {
      "text/plain": [
       "\n",
       "Call:  glm(formula = switch ~ dist, family = binomial(link = \"logit\"), \n",
       "    data = arsenic.simple)\n",
       "\n",
       "Coefficients:\n",
       "(Intercept)         dist  \n",
       "   0.605959    -0.006219  \n",
       "\n",
       "Degrees of Freedom: 3019 Total (i.e. Null);  3018 Residual\n",
       "Null Deviance:\t    4118 \n",
       "Residual Deviance: 4076 \tAIC: 4080"
      ]
     },
     "metadata": {},
     "output_type": "display_data"
    }
   ],
   "source": [
    "fit1 <- glm(switch ~ dist, family=binomial(link='logit'), data = arsenic.simple)\n",
    "fit1"
   ]
  },
  {
   "cell_type": "code",
   "execution_count": 81,
   "metadata": {
    "scrolled": true
   },
   "outputs": [
    {
     "data": {
      "text/html": [
       "<table>\n",
       "<thead><tr><th scope=col>switch</th><th scope=col>arsenic</th><th scope=col>dist</th><th scope=col>assoc</th><th scope=col>educ</th><th scope=col>dist100</th><th scope=col>pred1</th></tr></thead>\n",
       "<tbody>\n",
       "\t<tr><td>1        </td><td>2.36     </td><td>16.826   </td><td>0        </td><td> 0       </td><td>0.16826  </td><td>0.6227698</td></tr>\n",
       "\t<tr><td>1        </td><td>0.71     </td><td>47.322   </td><td>0        </td><td> 0       </td><td>0.47322  </td><td>0.5772934</td></tr>\n",
       "\t<tr><td>0        </td><td>2.07     </td><td>20.967   </td><td>0        </td><td>10       </td><td>0.20967  </td><td>0.6167011</td></tr>\n",
       "\t<tr><td>1        </td><td>1.15     </td><td>21.486   </td><td>0        </td><td>12       </td><td>0.21486  </td><td>0.6159379</td></tr>\n",
       "\t<tr><td>1        </td><td>1.10     </td><td>40.874   </td><td>1        </td><td>14       </td><td>0.40874  </td><td>0.5870471</td></tr>\n",
       "\t<tr><td>1        </td><td>3.90     </td><td>69.518   </td><td>1        </td><td> 9       </td><td>0.69518  </td><td>0.5433011</td></tr>\n",
       "</tbody>\n",
       "</table>\n"
      ],
      "text/latex": [
       "\\begin{tabular}{r|lllllll}\n",
       " switch & arsenic & dist & assoc & educ & dist100 & pred1\\\\\n",
       "\\hline\n",
       "\t 1         & 2.36      & 16.826    & 0         &  0        & 0.16826   & 0.6227698\\\\\n",
       "\t 1         & 0.71      & 47.322    & 0         &  0        & 0.47322   & 0.5772934\\\\\n",
       "\t 0         & 2.07      & 20.967    & 0         & 10        & 0.20967   & 0.6167011\\\\\n",
       "\t 1         & 1.15      & 21.486    & 0         & 12        & 0.21486   & 0.6159379\\\\\n",
       "\t 1         & 1.10      & 40.874    & 1         & 14        & 0.40874   & 0.5870471\\\\\n",
       "\t 1         & 3.90      & 69.518    & 1         &  9        & 0.69518   & 0.5433011\\\\\n",
       "\\end{tabular}\n"
      ],
      "text/markdown": [
       "\n",
       "switch | arsenic | dist | assoc | educ | dist100 | pred1 | \n",
       "|---|---|---|---|---|---|\n",
       "| 1         | 2.36      | 16.826    | 0         |  0        | 0.16826   | 0.6227698 | \n",
       "| 1         | 0.71      | 47.322    | 0         |  0        | 0.47322   | 0.5772934 | \n",
       "| 0         | 2.07      | 20.967    | 0         | 10        | 0.20967   | 0.6167011 | \n",
       "| 1         | 1.15      | 21.486    | 0         | 12        | 0.21486   | 0.6159379 | \n",
       "| 1         | 1.10      | 40.874    | 1         | 14        | 0.40874   | 0.5870471 | \n",
       "| 1         | 3.90      | 69.518    | 1         |  9        | 0.69518   | 0.5433011 | \n",
       "\n",
       "\n"
      ],
      "text/plain": [
       "  switch arsenic dist   assoc educ dist100 pred1    \n",
       "1 1      2.36    16.826 0      0   0.16826 0.6227698\n",
       "2 1      0.71    47.322 0      0   0.47322 0.5772934\n",
       "3 0      2.07    20.967 0     10   0.20967 0.6167011\n",
       "4 1      1.15    21.486 0     12   0.21486 0.6159379\n",
       "5 1      1.10    40.874 1     14   0.40874 0.5870471\n",
       "6 1      3.90    69.518 1      9   0.69518 0.5433011"
      ]
     },
     "metadata": {},
     "output_type": "display_data"
    }
   ],
   "source": [
    "# https://stackoverflow.com/questions/37329074/geom-smooth-and-exponential-fits\n",
    "new.data <- arsenic.simple %>% select(dist)\n",
    "pred <- as.data.frame(predict.glm(fit1, new.data, type = \"link\", se =TRUE))\n",
    "\n",
    "pred$fit <- fit1$family$linkinv(pred$fit)\n",
    "arsenic.simple <- arsenic.simple %>% mutate(pred1 = pred$fit)\n",
    "head(arsenic.simple)"
   ]
  },
  {
   "cell_type": "code",
   "execution_count": 82,
   "metadata": {},
   "outputs": [
    {
     "data": {},
     "metadata": {},
     "output_type": "display_data"
    },
    {
     "data": {
      "image/png": "[encoded data removed]",
      "text/plain": [
       "plot without title"
      ]
     },
     "metadata": {},
     "output_type": "display_data"
    }
   ],
   "source": [
    "ggplot(arsenic.simple) + geom_point(aes(dist, switch)) + \n",
    "    geom_line(aes(dist, pred1))"
   ]
  },
  {
   "cell_type": "code",
   "execution_count": 83,
   "metadata": {},
   "outputs": [
    {
     "data": {
      "text/plain": [
       "\n",
       "Call:  glm(formula = switch ~ dist100, family = binomial(link = \"logit\"), \n",
       "    data = arsenic.simple)\n",
       "\n",
       "Coefficients:\n",
       "(Intercept)      dist100  \n",
       "     0.6060      -0.6219  \n",
       "\n",
       "Degrees of Freedom: 3019 Total (i.e. Null);  3018 Residual\n",
       "Null Deviance:\t    4118 \n",
       "Residual Deviance: 4076 \tAIC: 4080"
      ]
     },
     "metadata": {},
     "output_type": "display_data"
    }
   ],
   "source": [
    "fit2 <- glm(switch ~ dist100, family=binomial(link='logit'), data = arsenic.simple)\n",
    "fit2"
   ]
  },
  {
   "cell_type": "markdown",
   "metadata": {},
   "source": [
    "# Logistic Regression\n",
    "\n",
    "$$ \\Large \\log \\left( \\dfrac{P(X=1)}{1 - P(X=1)} \\right) = \\beta_0 + \\beta_1 X $$\n",
    "\n",
    "Then, \n",
    "\n",
    "$$ \\Large P(X=1) = \\dfrac{e^{\\beta_0 + \\beta_1 X}}{1 + e^{\\beta_0 + \\beta_1 X}} $$\n",
    "\n",
    "So when $X = 0$, the probability of changing the well is\n",
    "\n"
   ]
  },
  {
   "cell_type": "code",
   "execution_count": 84,
   "metadata": {},
   "outputs": [
    {
     "data": {
      "text/html": [
       "0.647018527325433"
      ],
      "text/latex": [
       "0.647018527325433"
      ],
      "text/markdown": [
       "0.647018527325433"
      ],
      "text/plain": [
       "[1] 0.6470185"
      ]
     },
     "metadata": {},
     "output_type": "display_data"
    }
   ],
   "source": [
    "b_0 = fit2$coefficients[[1]]\n",
    "b_1 = fit2$coefficients[[2]]\n",
    "\n",
    "# proba of changing when well is at 0 meters. \n",
    "exp(b_0)/(1+exp(b_0))"
   ]
  },
  {
   "cell_type": "code",
   "execution_count": 85,
   "metadata": {},
   "outputs": [
    {
     "data": {
      "text/html": [
       "<table>\n",
       "<thead><tr><th scope=col>switch</th><th scope=col>arsenic</th><th scope=col>dist</th><th scope=col>assoc</th><th scope=col>educ</th><th scope=col>dist100</th><th scope=col>pred1</th><th scope=col>pred2</th></tr></thead>\n",
       "<tbody>\n",
       "\t<tr><td>1        </td><td>2.36     </td><td>16.826   </td><td>0        </td><td> 0       </td><td>0.16826  </td><td>0.6227698</td><td>0.6227698</td></tr>\n",
       "\t<tr><td>1        </td><td>0.71     </td><td>47.322   </td><td>0        </td><td> 0       </td><td>0.47322  </td><td>0.5772934</td><td>0.5772934</td></tr>\n",
       "\t<tr><td>0        </td><td>2.07     </td><td>20.967   </td><td>0        </td><td>10       </td><td>0.20967  </td><td>0.6167011</td><td>0.6167011</td></tr>\n",
       "\t<tr><td>1        </td><td>1.15     </td><td>21.486   </td><td>0        </td><td>12       </td><td>0.21486  </td><td>0.6159379</td><td>0.6159379</td></tr>\n",
       "\t<tr><td>1        </td><td>1.10     </td><td>40.874   </td><td>1        </td><td>14       </td><td>0.40874  </td><td>0.5870471</td><td>0.5870471</td></tr>\n",
       "\t<tr><td>1        </td><td>3.90     </td><td>69.518   </td><td>1        </td><td> 9       </td><td>0.69518  </td><td>0.5433011</td><td>0.5433011</td></tr>\n",
       "</tbody>\n",
       "</table>\n"
      ],
      "text/latex": [
       "\\begin{tabular}{r|llllllll}\n",
       " switch & arsenic & dist & assoc & educ & dist100 & pred1 & pred2\\\\\n",
       "\\hline\n",
       "\t 1         & 2.36      & 16.826    & 0         &  0        & 0.16826   & 0.6227698 & 0.6227698\\\\\n",
       "\t 1         & 0.71      & 47.322    & 0         &  0        & 0.47322   & 0.5772934 & 0.5772934\\\\\n",
       "\t 0         & 2.07      & 20.967    & 0         & 10        & 0.20967   & 0.6167011 & 0.6167011\\\\\n",
       "\t 1         & 1.15      & 21.486    & 0         & 12        & 0.21486   & 0.6159379 & 0.6159379\\\\\n",
       "\t 1         & 1.10      & 40.874    & 1         & 14        & 0.40874   & 0.5870471 & 0.5870471\\\\\n",
       "\t 1         & 3.90      & 69.518    & 1         &  9        & 0.69518   & 0.5433011 & 0.5433011\\\\\n",
       "\\end{tabular}\n"
      ],
      "text/markdown": [
       "\n",
       "switch | arsenic | dist | assoc | educ | dist100 | pred1 | pred2 | \n",
       "|---|---|---|---|---|---|\n",
       "| 1         | 2.36      | 16.826    | 0         |  0        | 0.16826   | 0.6227698 | 0.6227698 | \n",
       "| 1         | 0.71      | 47.322    | 0         |  0        | 0.47322   | 0.5772934 | 0.5772934 | \n",
       "| 0         | 2.07      | 20.967    | 0         | 10        | 0.20967   | 0.6167011 | 0.6167011 | \n",
       "| 1         | 1.15      | 21.486    | 0         | 12        | 0.21486   | 0.6159379 | 0.6159379 | \n",
       "| 1         | 1.10      | 40.874    | 1         | 14        | 0.40874   | 0.5870471 | 0.5870471 | \n",
       "| 1         | 3.90      | 69.518    | 1         |  9        | 0.69518   | 0.5433011 | 0.5433011 | \n",
       "\n",
       "\n"
      ],
      "text/plain": [
       "  switch arsenic dist   assoc educ dist100 pred1     pred2    \n",
       "1 1      2.36    16.826 0      0   0.16826 0.6227698 0.6227698\n",
       "2 1      0.71    47.322 0      0   0.47322 0.5772934 0.5772934\n",
       "3 0      2.07    20.967 0     10   0.20967 0.6167011 0.6167011\n",
       "4 1      1.15    21.486 0     12   0.21486 0.6159379 0.6159379\n",
       "5 1      1.10    40.874 1     14   0.40874 0.5870471 0.5870471\n",
       "6 1      3.90    69.518 1      9   0.69518 0.5433011 0.5433011"
      ]
     },
     "metadata": {},
     "output_type": "display_data"
    }
   ],
   "source": [
    "new.data <- arsenic.simple %>% select(dist100)\n",
    "pred <- as.data.frame(predict.glm(fit2, new.data, type = \"link\", se =TRUE))\n",
    "\n",
    "pred$fit <- fit2$family$linkinv(pred$fit)\n",
    "arsenic.simple <- arsenic.simple %>% mutate(pred2 = pred$fit)\n",
    "head(arsenic.simple)\n"
   ]
  },
  {
   "cell_type": "code",
   "execution_count": 86,
   "metadata": {},
   "outputs": [
    {
     "data": {},
     "metadata": {},
     "output_type": "display_data"
    },
    {
     "data": {
      "image/png": "[encoded data removed]",
      "text/plain": [
       "plot without title"
      ]
     },
     "metadata": {},
     "output_type": "display_data"
    }
   ],
   "source": [
    "ggplot(arsenic.simple) + geom_point(aes(dist100, switch)) + \n",
    "    geom_line(aes(dist100, pred2)) "
   ]
  },
  {
   "cell_type": "code",
   "execution_count": 96,
   "metadata": {},
   "outputs": [
    {
     "data": {
      "text/plain": [
       "\n",
       "Call:  glm(formula = switch ~ dist100 + arsenic + dist100:arsenic, family = binomial(link = \"logit\"), \n",
       "    data = arsenic.simple)\n",
       "\n",
       "Coefficients:\n",
       "    (Intercept)          dist100          arsenic  dist100:arsenic  \n",
       "        -0.1479          -0.5772           0.5560          -0.1789  \n",
       "\n",
       "Degrees of Freedom: 3019 Total (i.e. Null);  3016 Residual\n",
       "Null Deviance:\t    4118 \n",
       "Residual Deviance: 3928 \tAIC: 3936"
      ]
     },
     "metadata": {},
     "output_type": "display_data"
    }
   ],
   "source": [
    "fit3 <- glm (switch ~ dist100 + arsenic + dist100:arsenic, family=binomial(link=\"logit\"), data=arsenic.simple)\n",
    "fit3"
   ]
  },
  {
   "cell_type": "code",
   "execution_count": 89,
   "metadata": {},
   "outputs": [],
   "source": [
    "arsenic.simple <- arsenic.simple %>% \n",
    "    mutate(c.dist100 = dist100 - mean(dist100), c.arsenic = arsenic - mean(arsenic, na.rm = T))"
   ]
  },
  {
   "cell_type": "code",
   "execution_count": 156,
   "metadata": {},
   "outputs": [
    {
     "data": {
      "text/plain": [
       "\n",
       "Call:  glm(formula = switch ~ dist100 + arsenic + dist100:arsenic, family = binomial(link = \"logit\"), \n",
       "    data = arsenic.simple)\n",
       "\n",
       "Coefficients:\n",
       "    (Intercept)          dist100          arsenic  dist100:arsenic  \n",
       "        -0.1479          -0.5772           0.5560          -0.1789  \n",
       "\n",
       "Degrees of Freedom: 3019 Total (i.e. Null);  3016 Residual\n",
       "Null Deviance:\t    4118 \n",
       "Residual Deviance: 3928 \tAIC: 3936"
      ]
     },
     "metadata": {},
     "output_type": "display_data"
    }
   ],
   "source": [
    "fit4 <- glm (switch ~ dist100 + arsenic + dist100:arsenic, family=binomial(link=\"logit\"), data=arsenic.simple)\n",
    "fit4"
   ]
  },
  {
   "cell_type": "code",
   "execution_count": 185,
   "metadata": {},
   "outputs": [
    {
     "data": {
      "image/png": "[encoded data removed]",
      "text/plain": [
       "plot without title"
      ]
     },
     "metadata": {},
     "output_type": "display_data"
    }
   ],
   "source": [
    "plot(arsenic$dist, arsenic$switch, xlim=c(0,max(arsenic$dist)), ylim=c(-0.02, max(arsenic$switch)+0.02), \n",
    "     xlab=\"Distance (in meters) to nearest safe well\", ylab=\"Pr (switching)\", pch=20, col = alpha(\"black\", 0.3))\n",
    "\n",
    "curve(invlogit(coef(fit4)[1]+coef(fit4)[2]*x/100+coef(fit4)[3]*.50+coef(fit4)[4]*x/100*.50), lwd=.5, add=TRUE)\n",
    "curve(invlogit(coef(fit4)[1]+coef(fit4)[2]*x/100+coef(fit4)[3]*1+coef(fit4)[4]*x/100*1), lwd=.5, add=TRUE)\n",
    "\n",
    "text (75, .30, \"if As = 0.5\", adj=0, cex=.8)\n",
    "text (75, .50, \"if As = 1.0\", adj=0, cex=.8)"
   ]
  },
  {
   "cell_type": "code",
   "execution_count": 177,
   "metadata": {},
   "outputs": [
    {
     "data": {
      "image/png": "[encoded data removed]",
      "text/plain": [
       "plot without title"
      ]
     },
     "metadata": {},
     "output_type": "display_data"
    }
   ],
   "source": [
    "plot(arsenic$arsenic, arsenic$switch, xlim=c(0,max(arsenic$arsenic)), ylim=c(-0.02, max(arsenic$switch)+0.02), \n",
    "     xlab=\"Distance (in meters) to nearest safe well\", ylab=\"Pr (switching)\", pch=20, col = alpha(\"black\", 0.3))\n",
    "\n",
    "curve(invlogit(coef(fit4)[1]+coef(fit4)[2]*0+coef(fit4)[3]*x+coef(fit4)[4]*x*0), lwd=.5, add=TRUE)\n",
    "curve(invlogit(coef(fit4)[1]+coef(fit4)[2]*1+coef(fit4)[3]*x+coef(fit4)[4]*x*1), lwd=.5, add=TRUE)\n",
    "\n",
    "text (1.5, .8, \"if Dist = 0\", adj=0, cex=.8)\n",
    "text (1.5, .6, \"if Dist = 100\", adj=0, cex=.8)"
   ]
  },
  {
   "cell_type": "code",
   "execution_count": 159,
   "metadata": {},
   "outputs": [
    {
     "data": {
      "text/plain": [
       "\n",
       "Call:  glm(formula = switch ~ dist100 + log(arsenic) + dist100:log(arsenic), \n",
       "    family = binomial(link = \"logit\"), data = arsenic.simple)\n",
       "\n",
       "Coefficients:\n",
       "         (Intercept)               dist100          log(arsenic)  \n",
       "              0.4913               -0.8735                0.9834  \n",
       "dist100:log(arsenic)  \n",
       "             -0.2309  \n",
       "\n",
       "Degrees of Freedom: 3019 Total (i.e. Null);  3016 Residual\n",
       "Null Deviance:\t    4118 \n",
       "Residual Deviance: 3897 \tAIC: 3905"
      ]
     },
     "metadata": {},
     "output_type": "display_data"
    }
   ],
   "source": [
    "fit5 <- glm (switch ~ dist100 + log(arsenic) + dist100:log(arsenic), family=binomial(link=\"logit\"), data=arsenic.simple)\n",
    "fit5"
   ]
  },
  {
   "cell_type": "code",
   "execution_count": 180,
   "metadata": {},
   "outputs": [
    {
     "name": "stderr",
     "output_type": "stream",
     "text": [
      "Warning message in log(x):\n",
      "\"Se han producido NaNs\"Warning message in log(x):\n",
      "\"Se han producido NaNs\"Warning message in log(x):\n",
      "\"Se han producido NaNs\"Warning message in log(x):\n",
      "\"Se han producido NaNs\""
     ]
    },
    {
     "data": {
      "image/png": "[encoded data removed]",
      "text/plain": [
       "plot without title"
      ]
     },
     "metadata": {},
     "output_type": "display_data"
    }
   ],
   "source": [
    "plot(arsenic$arsenic, arsenic$switch, xlim=c(0,max(arsenic$arsenic)), ylim=c(-0.02, max(arsenic$switch)+0.02), \n",
    "     xlab=\"Arsenic Level\", ylab=\"Pr (switching)\", pch=20, col = alpha(\"black\", 0.3))\n",
    "\n",
    "curve(invlogit(coef(fit5)[1]+coef(fit5)[2]*0+coef(fit5)[3]*log(x)+coef(fit5)[4]*log(x)*0), lwd=.5, add=TRUE)\n",
    "curve(invlogit(coef(fit5)[1]+coef(fit5)[2]*1+coef(fit5)[3]*log(x)+coef(fit5)[4]*log(x)*1), lwd=.5, add=TRUE)\n",
    "\n",
    "text (1.6, .85, \"if Dist = 0\", adj=0, cex=.8)\n",
    "text (1.6, .62, \"if Dist = 100\", adj=0, cex=.8)"
   ]
  },
  {
   "cell_type": "markdown",
   "metadata": {},
   "source": [
    "## Example 2: Child iq"
   ]
  },
  {
   "cell_type": "code",
   "execution_count": 41,
   "metadata": {},
   "outputs": [
    {
     "data": {
      "text/html": [
       "<table>\n",
       "<thead><tr><th scope=col>kid.score</th><th scope=col>mom.hs</th><th scope=col>mom.iq</th><th scope=col>mom.work</th><th scope=col>mom.age</th></tr></thead>\n",
       "<tbody>\n",
       "\t<tr><td> 65      </td><td>1        </td><td>121.11753</td><td>4        </td><td>27       </td></tr>\n",
       "\t<tr><td> 98      </td><td>1        </td><td> 89.36188</td><td>4        </td><td>25       </td></tr>\n",
       "\t<tr><td> 85      </td><td>1        </td><td>115.44316</td><td>4        </td><td>27       </td></tr>\n",
       "\t<tr><td> 83      </td><td>1        </td><td> 99.44964</td><td>3        </td><td>25       </td></tr>\n",
       "\t<tr><td>115      </td><td>1        </td><td> 92.74571</td><td>4        </td><td>27       </td></tr>\n",
       "\t<tr><td> 98      </td><td>0        </td><td>107.90184</td><td>1        </td><td>18       </td></tr>\n",
       "</tbody>\n",
       "</table>\n"
      ],
      "text/latex": [
       "\\begin{tabular}{r|lllll}\n",
       " kid.score & mom.hs & mom.iq & mom.work & mom.age\\\\\n",
       "\\hline\n",
       "\t  65       & 1         & 121.11753 & 4         & 27       \\\\\n",
       "\t  98       & 1         &  89.36188 & 4         & 25       \\\\\n",
       "\t  85       & 1         & 115.44316 & 4         & 27       \\\\\n",
       "\t  83       & 1         &  99.44964 & 3         & 25       \\\\\n",
       "\t 115       & 1         &  92.74571 & 4         & 27       \\\\\n",
       "\t  98       & 0         & 107.90184 & 1         & 18       \\\\\n",
       "\\end{tabular}\n"
      ],
      "text/markdown": [
       "\n",
       "kid.score | mom.hs | mom.iq | mom.work | mom.age | \n",
       "|---|---|---|---|---|---|\n",
       "|  65       | 1         | 121.11753 | 4         | 27        | \n",
       "|  98       | 1         |  89.36188 | 4         | 25        | \n",
       "|  85       | 1         | 115.44316 | 4         | 27        | \n",
       "|  83       | 1         |  99.44964 | 3         | 25        | \n",
       "| 115       | 1         |  92.74571 | 4         | 27        | \n",
       "|  98       | 0         | 107.90184 | 1         | 18        | \n",
       "\n",
       "\n"
      ],
      "text/plain": [
       "  kid.score mom.hs mom.iq    mom.work mom.age\n",
       "1  65       1      121.11753 4        27     \n",
       "2  98       1       89.36188 4        25     \n",
       "3  85       1      115.44316 4        27     \n",
       "4  83       1       99.44964 3        25     \n",
       "5 115       1       92.74571 4        27     \n",
       "6  98       0      107.90184 1        18     "
      ]
     },
     "metadata": {},
     "output_type": "display_data"
    }
   ],
   "source": [
    "child.iq <- read_dta(\"C:/Users/Personal/Grupo de Trabajo Stats/ARM_Data/child.iq/kidiq.dta\")\n",
    "names(child.iq) <- c(\"kid.score\", \"mom.hs\", \"mom.iq\", \"mom.work\", \"mom.age\")\n",
    "head(child.iq)"
   ]
  },
  {
   "cell_type": "code",
   "execution_count": 42,
   "metadata": {},
   "outputs": [
    {
     "data": {
      "text/plain": [
       "\n",
       "Call:\n",
       "lm(formula = kid.score ~ mom.hs + mom.iq + mom.hs:mom.iq, data = child.iq)\n",
       "\n",
       "Coefficients:\n",
       "  (Intercept)         mom.hs         mom.iq  mom.hs:mom.iq  \n",
       "     -11.4820        51.2682         0.9689        -0.4843  \n"
      ]
     },
     "metadata": {},
     "output_type": "display_data"
    }
   ],
   "source": [
    "lm(formula = kid.score ~ mom.hs + mom.iq + mom.hs:mom.iq, data = child.iq)"
   ]
  },
  {
   "cell_type": "code",
   "execution_count": 125,
   "metadata": {},
   "outputs": [
    {
     "data": {
      "text/html": [
       "<table>\n",
       "<thead><tr><th scope=col>kid.score</th><th scope=col>mom.hs</th><th scope=col>mom.iq</th><th scope=col>mom.work</th><th scope=col>mom.age</th><th scope=col>c.mom.hs</th><th scope=col>c.mom.iq</th><th scope=col>pred3</th></tr></thead>\n",
       "<tbody>\n",
       "\t<tr><td> 65        </td><td>1          </td><td>121.11753  </td><td>4          </td><td>27         </td><td> 0.2142857 </td><td> 21.1175286</td><td>98.48152   </td></tr>\n",
       "\t<tr><td> 98        </td><td>1          </td><td> 89.36188  </td><td>4          </td><td>25         </td><td> 0.2142857 </td><td>-10.6381183</td><td>83.09227   </td></tr>\n",
       "\t<tr><td> 85        </td><td>1          </td><td>115.44316  </td><td>4          </td><td>27         </td><td> 0.2142857 </td><td> 15.4431649</td><td>95.73164   </td></tr>\n",
       "\t<tr><td> 83        </td><td>1          </td><td> 99.44964  </td><td>3          </td><td>25         </td><td> 0.2142857 </td><td> -0.5503606</td><td>87.98094   </td></tr>\n",
       "\t<tr><td>115        </td><td>1          </td><td> 92.74571  </td><td>4          </td><td>27         </td><td> 0.2142857 </td><td> -7.2542900</td><td>84.73212   </td></tr>\n",
       "\t<tr><td> 98        </td><td>0          </td><td>107.90184  </td><td>1          </td><td>18         </td><td>-0.7857143 </td><td>  7.9018378</td><td>93.06291   </td></tr>\n",
       "</tbody>\n",
       "</table>\n"
      ],
      "text/latex": [
       "\\begin{tabular}{r|llllllll}\n",
       " kid.score & mom.hs & mom.iq & mom.work & mom.age & c.mom.hs & c.mom.iq & pred3\\\\\n",
       "\\hline\n",
       "\t  65         & 1           & 121.11753   & 4           & 27          &  0.2142857  &  21.1175286 & 98.48152   \\\\\n",
       "\t  98         & 1           &  89.36188   & 4           & 25          &  0.2142857  & -10.6381183 & 83.09227   \\\\\n",
       "\t  85         & 1           & 115.44316   & 4           & 27          &  0.2142857  &  15.4431649 & 95.73164   \\\\\n",
       "\t  83         & 1           &  99.44964   & 3           & 25          &  0.2142857  &  -0.5503606 & 87.98094   \\\\\n",
       "\t 115         & 1           &  92.74571   & 4           & 27          &  0.2142857  &  -7.2542900 & 84.73212   \\\\\n",
       "\t  98         & 0           & 107.90184   & 1           & 18          & -0.7857143  &   7.9018378 & 93.06291   \\\\\n",
       "\\end{tabular}\n"
      ],
      "text/markdown": [
       "\n",
       "kid.score | mom.hs | mom.iq | mom.work | mom.age | c.mom.hs | c.mom.iq | pred3 | \n",
       "|---|---|---|---|---|---|\n",
       "|  65         | 1           | 121.11753   | 4           | 27          |  0.2142857  |  21.1175286 | 98.48152    | \n",
       "|  98         | 1           |  89.36188   | 4           | 25          |  0.2142857  | -10.6381183 | 83.09227    | \n",
       "|  85         | 1           | 115.44316   | 4           | 27          |  0.2142857  |  15.4431649 | 95.73164    | \n",
       "|  83         | 1           |  99.44964   | 3           | 25          |  0.2142857  |  -0.5503606 | 87.98094    | \n",
       "| 115         | 1           |  92.74571   | 4           | 27          |  0.2142857  |  -7.2542900 | 84.73212    | \n",
       "|  98         | 0           | 107.90184   | 1           | 18          | -0.7857143  |   7.9018378 | 93.06291    | \n",
       "\n",
       "\n"
      ],
      "text/plain": [
       "  kid.score mom.hs mom.iq    mom.work mom.age c.mom.hs   c.mom.iq    pred3   \n",
       "1  65       1      121.11753 4        27       0.2142857  21.1175286 98.48152\n",
       "2  98       1       89.36188 4        25       0.2142857 -10.6381183 83.09227\n",
       "3  85       1      115.44316 4        27       0.2142857  15.4431649 95.73164\n",
       "4  83       1       99.44964 3        25       0.2142857  -0.5503606 87.98094\n",
       "5 115       1       92.74571 4        27       0.2142857  -7.2542900 84.73212\n",
       "6  98       0      107.90184 1        18      -0.7857143   7.9018378 93.06291"
      ]
     },
     "metadata": {},
     "output_type": "display_data"
    }
   ],
   "source": [
    "child.iq <- child.iq %>% mutate(c.mom.hs = mom.hs - mean(mom.hs), c.mom.iq = mom.iq - mean(mom.iq))\n",
    "head(child.iq)"
   ]
  },
  {
   "cell_type": "code",
   "execution_count": 126,
   "metadata": {},
   "outputs": [
    {
     "data": {
      "text/plain": [
       "\n",
       "Call:\n",
       "lm(formula = kid.score ~ c.mom.hs + c.mom.iq + c.mom.hs:c.mom.iq, \n",
       "    data = child.iq)\n",
       "\n",
       "Coefficients:\n",
       "      (Intercept)           c.mom.hs           c.mom.iq  c.mom.hs:c.mom.iq  \n",
       "          87.6389             2.8408             0.5884            -0.4843  \n"
      ]
     },
     "metadata": {},
     "output_type": "display_data"
    }
   ],
   "source": [
    "lm(formula = kid.score ~ c.mom.hs + c.mom.iq + c.mom.hs:c.mom.iq, data = child.iq)"
   ]
  },
  {
   "cell_type": "code",
   "execution_count": 52,
   "metadata": {
    "collapsed": true
   },
   "outputs": [],
   "source": [
    "fit.3 <- lm(formula = kid.score ~ c.mom.hs + c.mom.iq + c.mom.hs:c.mom.iq, data = child.iq)\n",
    "new.data <- child.iq %>% select(c.mom.hs, c.mom.iq)\n",
    "pred <- predict.lm(fit.3, new.data)\n",
    "\n",
    "child.iq <- child.iq %>% mutate(pred3 = pred)\n",
    "#ggplot(child.iq) + geom_point(aes(c.mom.iq, kid.score)) + geom_line(aes(c.mom.iq, pred3))"
   ]
  },
  {
   "cell_type": "markdown",
   "metadata": {},
   "source": [
    "# Interactions\n",
    "\n",
    "Among average iq moms, going to hs increases child score. \n",
    "\n",
    "The interaction coeff: given that a mother went to hs, the higher the iq, the higher child.score is. \n"
   ]
  },
  {
   "cell_type": "markdown",
   "metadata": {},
   "source": [
    "<img src = 'mesquiteMeasure.jpg'>"
   ]
  },
  {
   "cell_type": "code",
   "execution_count": 8,
   "metadata": {
    "collapsed": true
   },
   "outputs": [],
   "source": [
    "# Multiple plot function\n",
    "#\n",
    "# ggplot objects can be passed in ..., or to plotlist (as a list of ggplot objects)\n",
    "# - cols:   Number of columns in layout\n",
    "# - layout: A matrix specifying the layout. If present, 'cols' is ignored.\n",
    "#\n",
    "# If the layout is something like matrix(c(1,2,3,3), nrow=2, byrow=TRUE),\n",
    "# then plot 1 will go in the upper left, 2 will go in the upper right, and\n",
    "# 3 will go all the way across the bottom.\n",
    "#\n",
    "multiplot <- function(..., plotlist=NULL, file, cols=1, layout=NULL) {\n",
    "  library(grid)\n",
    "\n",
    "  # Make a list from the ... arguments and plotlist\n",
    "  plots <- c(list(...), plotlist)\n",
    "\n",
    "  numPlots = length(plots)\n",
    "\n",
    "  # If layout is NULL, then use 'cols' to determine layout\n",
    "  if (is.null(layout)) {\n",
    "    # Make the panel\n",
    "    # ncol: Number of columns of plots\n",
    "    # nrow: Number of rows needed, calculated from # of cols\n",
    "    layout <- matrix(seq(1, cols * ceiling(numPlots/cols)),\n",
    "                    ncol = cols, nrow = ceiling(numPlots/cols))\n",
    "  }\n",
    "\n",
    " if (numPlots==1) {\n",
    "    print(plots[[1]])\n",
    "\n",
    "  } else {\n",
    "    # Set up the page\n",
    "    grid.newpage()\n",
    "    pushViewport(viewport(layout = grid.layout(nrow(layout), ncol(layout))))\n",
    "\n",
    "    # Make each plot, in the correct location\n",
    "    for (i in 1:numPlots) {\n",
    "      # Get the i,j matrix positions of the regions that contain this subplot\n",
    "      matchidx <- as.data.frame(which(layout == i, arr.ind = TRUE))\n",
    "\n",
    "      print(plots[[i]], vp = viewport(layout.pos.row = matchidx$row,\n",
    "                                      layout.pos.col = matchidx$col))\n",
    "    }\n",
    "  }\n",
    "}"
   ]
  }
 ],
 "metadata": {
  "anaconda-cloud": {},
  "kernelspec": {
   "display_name": "R 3.3",
   "language": "R",
   "name": "ir33"
  },
  "language_info": {
   "codemirror_mode": "r",
   "file_extension": ".r",
   "mimetype": "text/x-r-source",
   "name": "R",
   "pygments_lexer": "r",
   "version": "3.3.3"
  }
 },
 "nbformat": 4,
 "nbformat_minor": 1
}
