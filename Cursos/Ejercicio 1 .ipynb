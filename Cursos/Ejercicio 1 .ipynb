{
 "cells": [
  {
   "cell_type": "markdown",
   "metadata": {},
   "source": [
    "## Ejercicio \n",
    "\n",
    "Lanzo dos dados. Cuál es mas grande:\n",
    "\n",
    "P(Suma = 6) o P(suma = 7) ?"
   ]
  },
  {
   "cell_type": "code",
   "execution_count": 5,
   "metadata": {},
   "outputs": [],
   "source": [
    "library(dplyr)\n",
    "library(tidyr)\n",
    "library(ggplot2)"
   ]
  },
  {
   "cell_type": "code",
   "execution_count": 12,
   "metadata": {},
   "outputs": [
    {
     "data": {
      "text/html": [
       "<table>\n",
       "<thead><tr><th scope=col>d1</th><th scope=col>d2</th><th scope=col>suma</th></tr></thead>\n",
       "<tbody>\n",
       "\t<tr><td>3 </td><td>3 </td><td> 6</td></tr>\n",
       "\t<tr><td>5 </td><td>1 </td><td> 6</td></tr>\n",
       "\t<tr><td>2 </td><td>3 </td><td> 5</td></tr>\n",
       "\t<tr><td>3 </td><td>6 </td><td> 9</td></tr>\n",
       "\t<tr><td>6 </td><td>4 </td><td>10</td></tr>\n",
       "\t<tr><td>5 </td><td>5 </td><td>10</td></tr>\n",
       "</tbody>\n",
       "</table>\n"
      ],
      "text/latex": [
       "\\begin{tabular}{r|lll}\n",
       " d1 & d2 & suma\\\\\n",
       "\\hline\n",
       "\t 3  & 3  &  6\\\\\n",
       "\t 5  & 1  &  6\\\\\n",
       "\t 2  & 3  &  5\\\\\n",
       "\t 3  & 6  &  9\\\\\n",
       "\t 6  & 4  & 10\\\\\n",
       "\t 5  & 5  & 10\\\\\n",
       "\\end{tabular}\n"
      ],
      "text/markdown": [
       "\n",
       "d1 | d2 | suma | \n",
       "|---|---|---|---|---|---|\n",
       "| 3  | 3  |  6 | \n",
       "| 5  | 1  |  6 | \n",
       "| 2  | 3  |  5 | \n",
       "| 3  | 6  |  9 | \n",
       "| 6  | 4  | 10 | \n",
       "| 5  | 5  | 10 | \n",
       "\n",
       "\n"
      ],
      "text/plain": [
       "  d1 d2 suma\n",
       "1 3  3   6  \n",
       "2 5  1   6  \n",
       "3 2  3   5  \n",
       "4 3  6   9  \n",
       "5 6  4  10  \n",
       "6 5  5  10  "
      ]
     },
     "metadata": {},
     "output_type": "display_data"
    }
   ],
   "source": [
    "N <- 100000\n",
    "d1 <- sample(1:6, N, replace = TRUE)\n",
    "d2 <- sample(1:6, N, replace = TRUE)\n",
    "\n",
    "# dosDados <- data.frame(d1, d2, suma = d1 + d2) También funciona. \n",
    "dosDados <- data.frame(d1, d2) %>% mutate(suma = d1 + d2)\n",
    "\n",
    "head(dosDados)"
   ]
  },
  {
   "cell_type": "code",
   "execution_count": 13,
   "metadata": {},
   "outputs": [
    {
     "data": {},
     "metadata": {},
     "output_type": "display_data"
    },
    {
     "data": {
      "image/png": "[encoded data removed]",
      "text/plain": [
       "plot without title"
      ]
     },
     "metadata": {},
     "output_type": "display_data"
    }
   ],
   "source": [
    "ggplot(dosDados, aes(x = suma, y = ..count../sum(..count..))) + \n",
    "        geom_histogram(breaks = 1:12) + scale_x_continuous(breaks = 1:12)"
   ]
  },
  {
   "cell_type": "markdown",
   "metadata": {},
   "source": [
    "En el histograma $ P( suma = 7) \\approx 0.17 $  y $ P( suma = 6) \\approx 0.14 $.\n",
    "\n",
    "Con probas: \n",
    "\n",
    "Para tener suma = 6 puedo sacar: \n",
    "\n",
    "    - 1 y 5\n",
    "    - 2 y 4\n",
    "    - 3 y 3\n",
    "    - 4 y 2\n",
    "    - 5 y 1\n",
    "    \n",
    "para suma = 7: \n",
    "\n",
    "    - 1 y 6\n",
    "    - 2 y 5\n",
    "    - 3 y 4\n",
    "    - 4 y 3\n",
    "    - 5 y 2\n",
    "    - 6 y 1\n",
    "    \n",
    "\n",
    "Si todas las caras son equiprobables: \n",
    "\n",
    " $ P(suma = 6) = 5 / 36 \\approx 0.14 $ \n",
    " \n",
    " y\n",
    "\n",
    " $ P(suma = 7) = 6 / 36 = 1/6 \\approx 0.17$\n"
   ]
  }
 ],
 "metadata": {
  "kernelspec": {
   "display_name": "R 3.3",
   "language": "R",
   "name": "ir33"
  },
  "language_info": {
   "codemirror_mode": "r",
   "file_extension": ".r",
   "mimetype": "text/x-r-source",
   "name": "R",
   "pygments_lexer": "r",
   "version": "3.3.3"
  }
 },
 "nbformat": 4,
 "nbformat_minor": 2
}
